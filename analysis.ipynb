{
 "cells": [
  {
   "cell_type": "code",
   "execution_count": 19,
   "metadata": {},
   "outputs": [],
   "source": [
    "import pandas as pd\n",
    "import os\n",
    "import json\n",
    "from datetime import datetime\n",
    "#import tqdm\n",
    "import csv"
   ]
  },
  {
   "cell_type": "code",
   "execution_count": 20,
   "metadata": {},
   "outputs": [],
   "source": [
    "directory = \"/home/thunderpurtz/Desktop/MessengerAnalysis/JessMessengerAnalysis/jessicagiang_ejka7cjioq/\"\n",
    "directoryMac = \"/Users/Thunderpurtz/Desktop/CSPROJECTS/MessengerDataAnalysis/jessicagiang_ejka7cjioq/\""
   ]
  },
  {
   "cell_type": "code",
   "execution_count": 22,
   "metadata": {},
   "outputs": [],
   "source": [
    "for filename in os.listdir(directoryMac):\n",
    "    if filename.endswith(\".json\"):\n",
    "        f = open(directoryMac + filename)\n",
    "        data = json.load(f)\n",
    "        for message in data[\"messages\"]:\n",
    "            try:\n",
    "                dt = datetime.fromtimestamp(message[\"timestamp_ms\"] / 1000).strftime(\"%Y-%m-%d %H:%M:%S\")\n",
    "                dtstring = str(dt).split(\" \")\n",
    "                date = dtstring[0]\n",
    "                time = dtstring[1]\n",
    "                sender = message[\"sender_name\"]\n",
    "                content = message[\"content\"]\n",
    "                with open(\"output.csv\", 'a') as csv_file:\n",
    "                    writer = csv.writer(csv_file)\n",
    "                    writer.writerow([date,time,sender,content])\n",
    "\n",
    "            except KeyError:\n",
    "                pass"
   ]
  },
  {
   "cell_type": "code",
   "execution_count": 23,
   "metadata": {},
   "outputs": [],
   "source": [
    "df = pd.read_csv('output.csv')"
   ]
  },
  {
   "cell_type": "code",
   "execution_count": 24,
   "metadata": {},
   "outputs": [
    {
     "name": "stdout",
     "output_type": "stream",
     "text": [
      "         date      time         sender  \\\n",
      "0  2021-09-28  22:51:39     Mason Qian   \n",
      "1  2021-09-28  22:51:03  Jessica Giang   \n",
      "2  2021-09-28  22:50:57     Mason Qian   \n",
      "3  2021-09-28  22:50:35     Mason Qian   \n",
      "4  2021-09-28  22:50:31  Jessica Giang   \n",
      "\n",
      "                                             message  \n",
      "0                                          nice nice  \n",
      "1                                 I just had it ytd!  \n",
      "2  Do you go for bone marrow when you have bones ...  \n",
      "3   LOL leave it to you to relate everything to food  \n",
      "4  That way I can chew and be happy from food and...  \n"
     ]
    }
   ],
   "source": [
    "print(df.head())"
   ]
  },
  {
   "cell_type": "code",
   "execution_count": 28,
   "metadata": {},
   "outputs": [
    {
     "data": {
      "text/plain": [
       "<AxesSubplot:>"
      ]
     },
     "execution_count": 28,
     "metadata": {},
     "output_type": "execute_result"
    },
    {
     "data": {
      "image/png": "[encoded data removed]",
      "text/plain": [
       "<Figure size 1800x504 with 1 Axes>"
      ]
     },
     "metadata": {
      "needs_background": "light"
     },
     "output_type": "display_data"
    }
   ],
   "source": [
    "df.date.value_counts().plot(kind=\"bar\", figsize=(25,7))\n",
    "\n",
    "\n",
    "\n"
   ]
  },
  {
   "cell_type": "code",
   "execution_count": 16,
   "metadata": {},
   "outputs": [
    {
     "name": "stdout",
     "output_type": "stream",
     "text": [
      "hello\n"
     ]
    }
   ],
   "source": [
    "print(\"hello\")"
   ]
  }
 ],
 "metadata": {
  "kernelspec": {
   "display_name": "Python 3",
   "language": "python",
   "name": "python3"
  },
  "language_info": {
   "codemirror_mode": {
    "name": "ipython",
    "version": 3
   },
   "file_extension": ".py",
   "mimetype": "text/x-python",
   "name": "python",
   "nbconvert_exporter": "python",
   "pygments_lexer": "ipython3",
   "version": "3.8.1"
  }
 },
 "nbformat": 4,
 "nbformat_minor": 4
}
